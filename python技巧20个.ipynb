{
 "cells": [
  {
   "cell_type": "code",
   "execution_count": 1,
   "metadata": {
    "collapsed": true
   },
   "outputs": [
    {
     "name": "stdout",
     "output_type": "stream",
     "text": [
      "~~dlrow olleh\n",
      "[4, 3, 2, 1]\n"
     ]
    }
   ],
   "source": [
    "# woshishui\n",
    "#字符串的翻转,list翻转\n",
    "\n",
    "str1 = \"hello world~~\"\n",
    "print(str1[::-1])\n",
    "list1 = [1,2,3,4]\n",
    "print(list1[::-1])"
   ]
  },
  {
   "cell_type": "code",
   "execution_count": 2,
   "outputs": [
    {
     "name": "stdout",
     "output_type": "stream",
     "text": [
      "I Love Python\n",
      "I LOVE PYTHON\n",
      "I love python\n"
     ]
    }
   ],
   "source": [
    "str2 = \"i love python\"\n",
    "print(str2.title()) #首字母大写\n",
    "print(str2.upper()) #所有字母大写\n",
    "print(str2.capitalize()) #字符串首字母大写"
   ],
   "metadata": {
    "collapsed": false,
    "pycharm": {
     "name": "#%% 单词大小写\n"
    }
   }
  },
  {
   "cell_type": "code",
   "execution_count": 3,
   "outputs": [
    {
     "name": "stdout",
     "output_type": "stream",
     "text": [
      "['I', 'love', 'Python']\n",
      "['I', 'love', 'Python']\n",
      "I love Python\n",
      "<class 'str'>\n"
     ]
    }
   ],
   "source": [
    "#字符串的拆分可以直接利用split函数，进行实现，返回的是列表，而strip函数用于移除字符串头尾指定的字符（默认为空格或换行符）\n",
    "str4 = \"I love Python\"\n",
    "str4_1 = \"I/love/Python\"\n",
    "str4_2 = \"    I love Python   \"\n",
    "print(str4.split()) #默认按照空格拆分，返回列表\n",
    "print(str4_1.split('/')) #以'/'拆分\n",
    "print(str4_2.strip()) #默认去除字符串左右两侧空格，返回字符串\n",
    "print(type(str4_2.strip()))"
   ],
   "metadata": {
    "collapsed": false,
    "pycharm": {
     "name": "#%%  字符串拆分\n"
    }
   }
  },
  {
   "cell_type": "code",
   "execution_count": 4,
   "outputs": [
    {
     "name": "stdout",
     "output_type": "stream",
     "text": [
      "I##love##Python\n",
      "I love Python\n",
      " /  .  \n"
     ]
    }
   ],
   "source": [
    "list8 = ['I','love','Python']\n",
    "print('##'.join(list8))\n",
    "print(' '.join(list8))\n",
    "#去掉字符串中不需要的字符\n",
    "import re\n",
    "str8 = \"I/ love. Python\"\n",
    "print(' '.join(re.split('\\w+',str8)))"
   ],
   "metadata": {
    "collapsed": false,
    "pycharm": {
     "name": "#%% 列表中的字符串合并\n"
    }
   }
  },
  {
   "cell_type": "code",
   "execution_count": 5,
   "outputs": [
    {
     "name": "stdout",
     "output_type": "stream",
     "text": [
      "gfwert\n",
      "[2, 3, 4, 5, 6, 8]\n"
     ]
    },
    {
     "data": {
      "text/plain": "'\\n在python中，对于唯一值的筛查，首先应该想到对于set的利用，set可以帮助我们快速的筛查重复的元素，上述程序中，set不仅可以对字符串，而且还可以针对列表进行筛查。\\n'"
     },
     "execution_count": 5,
     "metadata": {},
     "output_type": "execute_result"
    }
   ],
   "source": [
    "str1 = \"wwweeerftttg\"\n",
    "print(''.join(set(str1)))\n",
    "#对于列表的筛查\n",
    "list1 = [3,4,5,6,8,2,3]\n",
    "print(list(set(list1)))\n",
    "\"\"\"\n",
    "在python中，对于唯一值的筛查，首先应该想到对于set的利用，set可以帮助我们快速的筛查重复的元素，上述程序中，set不仅可以对字符串，而且还可以针对列表进行筛查。\n",
    "\"\"\""
   ],
   "metadata": {
    "collapsed": false,
    "pycharm": {
     "name": "#%% 寻找字符串中唯一元素\n"
    }
   }
  },
  {
   "cell_type": "code",
   "execution_count": 6,
   "outputs": [
    {
     "name": "stdout",
     "output_type": "stream",
     "text": [
      "PythonPythonPython\n",
      "[1, 2, 3, 1, 2, 3, 1, 2, 3]\n",
      "0\n",
      "1\n",
      "PythonPython\n",
      "[1, 2, 3, 1, 2, 3]\n"
     ]
    }
   ],
   "source": [
    "str3 = \"Python\"\n",
    "list2 = [1,2,3]\n",
    "#乘法表述\n",
    "print(str3*3)\n",
    "print(list2*3)\n",
    "\n",
    "#加法表述\n",
    "str3_1 = \"\"\n",
    "list2_1 = []\n",
    "for i in range(2):\n",
    "    str3_1 += str3\n",
    "    list2_1.extend(list2)\n",
    "    print(i)\n",
    "print(str3_1)\n",
    "print(list2_1)"
   ],
   "metadata": {
    "collapsed": false,
    "pycharm": {
     "name": "#%% 将元素进行重复\n"
    }
   }
  },
  {
   "cell_type": "code",
   "execution_count": 7,
   "outputs": [
    {
     "name": "stdout",
     "output_type": "stream",
     "text": [
      "[4, 4, 4, 4]\n",
      "[1, 2, 3, 4, 5, 6, 4, 3, 1]\n"
     ]
    }
   ],
   "source": [
    "list3 = [2,2,2,2]\n",
    "print([2*x for x in list3])  #列表推导式\n",
    "#列表的展开\n",
    "list4 = [[1,2,3],[4,5,6],[4,3],[1]]\n",
    "print([i for m in list4 for i in m])"
   ],
   "metadata": {
    "collapsed": false,
    "pycharm": {
     "name": "#%%  基于列表的扩展\n"
    }
   }
  },
  {
   "cell_type": "code",
   "execution_count": 8,
   "outputs": [
    {
     "name": "stdout",
     "output_type": "stream",
     "text": [
      "[12, 5, 6, 2, 4, 5, 6, 7, 9, 5, 8, 9, 10, 12]\n"
     ]
    }
   ],
   "source": [
    "def flatten(lst):\n",
    "    res = []\n",
    "    for i in lst:\n",
    "        if isinstance(i,list):\n",
    "            res.extend(flatten(i))\n",
    "        else:\n",
    "            res.append(i)\n",
    "    return res\n",
    "\n",
    "list3 = [[12,5,6],[2,4,[5],[6,7,9]],[5,8,[9,[10,12]]]]\n",
    "print(flatten(list3))"
   ],
   "metadata": {
    "collapsed": false,
    "pycharm": {
     "name": "#%% 将列表展开\n"
    }
   }
  },
  {
   "cell_type": "code",
   "execution_count": 9,
   "outputs": [
    {
     "name": "stdout",
     "output_type": "stream",
     "text": [
      "2 1\n"
     ]
    }
   ],
   "source": [
    "a = 1\n",
    "b = 2\n",
    "a,b = b,a\n",
    "print(a,b)"
   ],
   "metadata": {
    "collapsed": false,
    "pycharm": {
     "name": "#%% 二值交换\n"
    }
   }
  },
  {
   "cell_type": "code",
   "execution_count": 10,
   "outputs": [
    {
     "name": "stdout",
     "output_type": "stream",
     "text": [
      "Counter({'o': 3, 't': 2, 'P': 1, 'p': 1, 'Y': 1, 'y': 1, 'h': 1, 'n': 1})\n",
      "1\n",
      "[('o', 3)]\n"
     ]
    }
   ],
   "source": [
    "from collections import Counter\n",
    "list10 = ['P','p','Y','y','t','t','h','o','o','o','n']\n",
    "count = Counter(list10)\n",
    "print(count)\n",
    "print(count['P'])\n",
    "print(count.most_common(1))\n"
   ],
   "metadata": {
    "collapsed": false,
    "pycharm": {
     "name": "#%% 统计列表中元素的频率\n"
    }
   }
  },
  {
   "cell_type": "code",
   "execution_count": 11,
   "outputs": [
    {
     "name": "stdout",
     "output_type": "stream",
     "text": [
      "三个字符串所含元素相同\n"
     ]
    }
   ],
   "source": [
    "str1_1,str1_2,str1_3 = \"qwert\",\"qertw\",\"reqtw\"\n",
    "cn_str1_1,cn_str1_2,cn_str1_3 = Counter(str1_1),Counter(str1_2),Counter(str1_3)\n",
    "if(cn_str1_1 == cn_str1_2 and cn_str1_2 == cn_str1_3):\n",
    "    print(\"三个字符串所含元素相同\")"
   ],
   "metadata": {
    "collapsed": false,
    "pycharm": {
     "name": "#%% 判断字符串所含元素是否相同\n"
    }
   }
  },
  {
   "cell_type": "code",
   "execution_count": 12,
   "outputs": [
    {
     "name": "stdout",
     "output_type": "stream",
     "text": [
      "[2, 3, 4, 5, 3, 4, 3]\n",
      "========\n",
      "[2, 3, 4, 5, 3, 4, 3]\n"
     ]
    }
   ],
   "source": [
    "str1 = \"2345343\"\n",
    "#方法1\n",
    "list1_1 = list(map(int,str1))\n",
    "print(list1_1)\n",
    "print(\"========\")\n",
    "#方法2\n",
    "list1_2 = [int(i) for i in str1]\n",
    "print(list1_2)"
   ],
   "metadata": {
    "collapsed": false,
    "pycharm": {
     "name": "#%% 将数字字符串转化为数字列表\n"
    }
   }
  },
  {
   "cell_type": "code",
   "execution_count": 13,
   "outputs": [
    {
     "name": "stdout",
     "output_type": "stream",
     "text": [
      "0 P\n",
      "1 y\n",
      "2 t\n",
      "3 h\n",
      "4 o\n",
      "5 n\n",
      "==============\n",
      "0 1\n",
      "1 2\n",
      "2 3\n",
      "3 4\n",
      "4 5\n"
     ]
    }
   ],
   "source": [
    "str3 = \"Python\"\n",
    "list3 = [1,2,3,4,5]\n",
    "for i,j in enumerate(str3):\n",
    "    print(i,j)\n",
    "print(\"==============\")\n",
    "for i,j in enumerate(list3):\n",
    "    print(i,j)\n",
    "\n"
   ],
   "metadata": {
    "collapsed": false,
    "pycharm": {
     "name": "#%% 使用enumerate()函数来获取索引-数值对\n"
    }
   }
  },
  {
   "cell_type": "code",
   "execution_count": 14,
   "outputs": [
    {
     "name": "stdout",
     "output_type": "stream",
     "text": [
      "{'a': 1, 'b': 2, 'c': 3, 'd': 4}\n",
      "==============================\n",
      "{'a': 1, 'b': 2, 'c': 3, 'd': 4}\n"
     ]
    }
   ],
   "source": [
    "dict1 = {'a':1,'b':2}\n",
    "dict2 = {'c':3,'d':4}\n",
    "#方法1\n",
    "combined_dict = {**dict1,**dict2}\n",
    "print(combined_dict)\n",
    "print(\"=\"*30)\n",
    "#方法2\n",
    "dict1.update(dict2)\n",
    "print(dict1)\n",
    "\n"
   ],
   "metadata": {
    "collapsed": false,
    "pycharm": {
     "name": "#%%  字典的合并\n"
    }
   }
  },
  {
   "cell_type": "code",
   "execution_count": 18,
   "outputs": [
    {
     "name": "stdout",
     "output_type": "stream",
     "text": [
      "[6, 1, 5]\n",
      "['e', 'w', 'w']\n"
     ]
    }
   ],
   "source": [
    "import random\n",
    "str18 = \"wewewe\"\n",
    "list18 = [1,2,3,5,6]\n",
    "n = 3\n",
    "print(random.sample(list18,n))\n",
    "print(random.sample(str18,n))"
   ],
   "metadata": {
    "collapsed": false,
    "pycharm": {
     "name": "#%%  随机采样\n"
    }
   }
  },
  {
   "cell_type": "code",
   "execution_count": 16,
   "outputs": [
    {
     "name": "stdout",
     "output_type": "stream",
     "text": [
      "该列表中元素唯一\n",
      "不唯一\n"
     ]
    }
   ],
   "source": [
    "lst19 = [1,2,3,4,5,6]\n",
    "lst19_1 = [1,2,2,4,5,6]\n",
    "def ifUnque(seq):\n",
    "    if len(seq)==len(set(seq)):\n",
    "        print(\"该列表中元素唯一\")\n",
    "    else:\n",
    "        print(\"不唯一\")\n",
    "ifUnque(lst19)\n",
    "ifUnque(lst19_1)\n"
   ],
   "metadata": {
    "collapsed": false,
    "pycharm": {
     "name": "#%%\n"
    }
   }
  },
  {
   "cell_type": "code",
   "execution_count": 17,
   "outputs": [
    {
     "ename": "AttributeError",
     "evalue": "'tensorflow.python.framework.ops.EagerTensor' object has no attribute 'tf'",
     "output_type": "error",
     "traceback": [
      "\u001B[1;31m---------------------------------------------------------------------------\u001B[0m",
      "\u001B[1;31mAttributeError\u001B[0m                            Traceback (most recent call last)",
      "\u001B[1;32m<ipython-input-17-fbd48ff34b32>\u001B[0m in \u001B[0;36m<module>\u001B[1;34m\u001B[0m\n\u001B[0;32m      1\u001B[0m \u001B[1;32mimport\u001B[0m \u001B[0mtensorflow\u001B[0m \u001B[1;32mas\u001B[0m \u001B[0mtf\u001B[0m\u001B[1;33m\u001B[0m\u001B[1;33m\u001B[0m\u001B[0m\n\u001B[0;32m      2\u001B[0m \u001B[0ma\u001B[0m\u001B[1;33m=\u001B[0m\u001B[0mtf\u001B[0m\u001B[1;33m.\u001B[0m\u001B[0mrange\u001B[0m\u001B[1;33m(\u001B[0m\u001B[1;36m32\u001B[0m\u001B[1;33m*\u001B[0m\u001B[1;36m32\u001B[0m\u001B[1;33m*\u001B[0m\u001B[1;36m3\u001B[0m\u001B[1;33m)\u001B[0m\u001B[1;33m\u001B[0m\u001B[1;33m\u001B[0m\u001B[0m\n\u001B[1;32m----> 3\u001B[1;33m \u001B[0mb\u001B[0m\u001B[1;33m=\u001B[0m\u001B[0ma\u001B[0m\u001B[1;33m.\u001B[0m\u001B[0mtf\u001B[0m\u001B[1;33m.\u001B[0m\u001B[0mresize\u001B[0m\u001B[1;33m(\u001B[0m\u001B[1;36m32\u001B[0m\u001B[1;33m,\u001B[0m\u001B[1;36m32\u001B[0m\u001B[1;33m,\u001B[0m\u001B[1;36m3\u001B[0m\u001B[1;33m)\u001B[0m\u001B[1;33m\u001B[0m\u001B[1;33m\u001B[0m\u001B[0m\n\u001B[0m\u001B[0;32m      4\u001B[0m \u001B[0mprint\u001B[0m\u001B[1;33m(\u001B[0m\u001B[0mb\u001B[0m\u001B[1;33m)\u001B[0m\u001B[1;33m\u001B[0m\u001B[1;33m\u001B[0m\u001B[0m\n",
      "\u001B[1;31mAttributeError\u001B[0m: 'tensorflow.python.framework.ops.EagerTensor' object has no attribute 'tf'"
     ]
    }
   ],
   "source": [],
   "metadata": {
    "collapsed": false,
    "pycharm": {
     "name": "#%%\n"
    }
   }
  }
 ],
 "metadata": {
  "kernelspec": {
   "display_name": "Python 3",
   "language": "python",
   "name": "python3"
  },
  "language_info": {
   "codemirror_mode": {
    "name": "ipython",
    "version": 2
   },
   "file_extension": ".py",
   "mimetype": "text/x-python",
   "name": "python",
   "nbconvert_exporter": "python",
   "pygments_lexer": "ipython2",
   "version": "2.7.6"
  }
 },
 "nbformat": 4,
 "nbformat_minor": 0
}